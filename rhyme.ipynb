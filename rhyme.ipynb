{
  "nbformat": 4,
  "nbformat_minor": 0,
  "metadata": {
    "colab": {
      "name": "rhyme.ipynb",
      "provenance": [],
      "collapsed_sections": []
    },
    "kernelspec": {
      "name": "python3",
      "display_name": "Python 3"
    }
  },
  "cells": [
    {
      "cell_type": "code",
      "metadata": {
        "id": "NCZ3kVpcEYQF",
        "colab_type": "code",
        "colab": {
          "base_uri": "https://localhost:8080/",
          "height": 362
        },
        "outputId": "446f6fff-1c84-4f50-b4b0-757796330893"
      },
      "source": [
        "!pip install pymorphy2\n",
        "from google.colab import drive\n",
        "drive.mount('/content/drive')\n",
        "\n",
        "!pip install phonetic-algorithmIPA\n",
        "from phonetic_algorithmIPA import ipa_distances\n",
        "ipa = ipa_distances.PhoneticAlgorithmIPA()"
      ],
      "execution_count": 1,
      "outputs": [
        {
          "output_type": "stream",
          "text": [
            "Collecting pymorphy2\n",
            "\u001b[?25l  Downloading https://files.pythonhosted.org/packages/a3/33/fff9675c68b5f6c63ec8c6e6ff57827dda28a1fa5b2c2d727dffff92dd47/pymorphy2-0.8-py2.py3-none-any.whl (46kB)\n",
            "\u001b[K     |████████████████████████████████| 51kB 1.7MB/s \n",
            "\u001b[?25hCollecting pymorphy2-dicts<3.0,>=2.4\n",
            "\u001b[?25l  Downloading https://files.pythonhosted.org/packages/02/51/2465fd4f72328ab50877b54777764d928da8cb15b74e2680fc1bd8cb3173/pymorphy2_dicts-2.4.393442.3710985-py2.py3-none-any.whl (7.1MB)\n",
            "\u001b[K     |████████████████████████████████| 7.1MB 7.0MB/s \n",
            "\u001b[?25hCollecting dawg-python>=0.7\n",
            "  Downloading https://files.pythonhosted.org/packages/6a/84/ff1ce2071d4c650ec85745766c0047ccc3b5036f1d03559fd46bb38b5eeb/DAWG_Python-0.7.2-py2.py3-none-any.whl\n",
            "Requirement already satisfied: docopt>=0.6 in /usr/local/lib/python3.6/dist-packages (from pymorphy2) (0.6.2)\n",
            "Installing collected packages: pymorphy2-dicts, dawg-python, pymorphy2\n",
            "Successfully installed dawg-python-0.7.2 pymorphy2-0.8 pymorphy2-dicts-2.4.393442.3710985\n",
            "Go to this URL in a browser: https://accounts.google.com/o/oauth2/auth?client_id=947318989803-6bn6qk8qdgf4n4g3pfee6491hc0brc4i.apps.googleusercontent.com&redirect_uri=urn%3aietf%3awg%3aoauth%3a2.0%3aoob&response_type=code&scope=email%20https%3a%2f%2fwww.googleapis.com%2fauth%2fdocs.test%20https%3a%2f%2fwww.googleapis.com%2fauth%2fdrive%20https%3a%2f%2fwww.googleapis.com%2fauth%2fdrive.photos.readonly%20https%3a%2f%2fwww.googleapis.com%2fauth%2fpeopleapi.readonly\n",
            "\n",
            "Enter your authorization code:\n",
            "··········\n",
            "Mounted at /content/drive\n",
            "Collecting phonetic-algorithmIPA\n",
            "  Downloading https://files.pythonhosted.org/packages/b7/38/f4e2be32d5e6eaa7d6708c6fced6de132f4f2f1e6d5764bc687f2e4a5cec/phonetic_algorithmIPA-0.2.4-py3-none-any.whl\n",
            "Installing collected packages: phonetic-algorithmIPA\n",
            "Successfully installed phonetic-algorithmIPA-0.2.4\n"
          ],
          "name": "stdout"
        }
      ]
    },
    {
      "cell_type": "code",
      "metadata": {
        "id": "PACrM6JyEkv1",
        "colab_type": "code",
        "colab": {}
      },
      "source": [
        "import pandas as pd\n",
        "import numpy as np\n",
        "import re\n",
        "import networkx as nx\n",
        "import sklearn\n",
        "import pickle\n",
        "import pymorphy2\n",
        "\n",
        "\n",
        "from sklearn.linear_model import RidgeClassifier\n",
        "from sklearn.model_selection import GridSearchCV\n",
        "from sklearn import datasets\n",
        "from collections import Counter\n",
        "morph = pymorphy2.MorphAnalyzer()\n",
        "load_model = pickle.load(open('model.sav', 'rb'))"
      ],
      "execution_count": 0,
      "outputs": []
    },
    {
      "cell_type": "code",
      "metadata": {
        "id": "0LxwyWFnEutz",
        "colab_type": "code",
        "colab": {
          "base_uri": "https://localhost:8080/",
          "height": 70
        },
        "outputId": "53a4aaa6-41d6-49d9-bb85-7d736ee4624c"
      },
      "source": [
        "verses = pd.read_csv('/content/drive/My Drive/verses.csv', sep = '\\t')"
      ],
      "execution_count": 4,
      "outputs": [
        {
          "output_type": "stream",
          "text": [
            "/usr/local/lib/python3.6/dist-packages/IPython/core/interactiveshell.py:2718: DtypeWarning: Columns (26,27,28,31,32,42,48) have mixed types.Specify dtype option on import or set low_memory=False.\n",
            "  interactivity=interactivity, compiler=compiler, result=result)\n"
          ],
          "name": "stderr"
        }
      ]
    },
    {
      "cell_type": "code",
      "metadata": {
        "id": "V-Sq7phSFkQO",
        "colab_type": "code",
        "colab": {}
      },
      "source": [
        "with open ('rules.csv', 'r', encoding = 'utf-8') as r:\n",
        "    rules = r.read()\n",
        "rules = rules.split('\\n')\n",
        "list_rules = []\n",
        "for i in rules:\n",
        "    list_rules.append(i.split(';'))"
      ],
      "execution_count": 0,
      "outputs": []
    },
    {
      "cell_type": "code",
      "metadata": {
        "id": "3ZX3RpiqFp6T",
        "colab_type": "code",
        "colab": {}
      },
      "source": [
        "# ФУНКЦИЯ ПРИМЕНЯЕТ ПРАВИЛА ПЕРЕХОДОВ (ПРЕОБРАЗОВАНИЕ В ТРАНСКРИПЦИЮ) К БУКВЕ\n",
        "\n",
        "def zamena(word, index_letter, rule):\n",
        "    letter = word[index_letter]\n",
        "    if rule[0] == word[index_letter]:\n",
        "        if rule[2] == '':\n",
        "            word = word.replace(word[index_letter], rule[1])\n",
        "            return word\n",
        "\n",
        "        if rule[2][1] == word[index_letter+1] or rule[2][0] == word[index_letter-1]:\n",
        "            if rule[2][1] == word[index_letter+1]:\n",
        "                word = word.replace(word[index_letter], rule[1], 1)\n",
        "                return word\n",
        "\n",
        "        if rule[2][0] == word[index_letter-1]:\n",
        "            print(rule[2][0])\n",
        "            word = word.replace(word[index_letter], rule[1], 1)\n",
        "            return word\n",
        "\n",
        "        else:\n",
        "            return word\n",
        "    else:\n",
        "        return word\n"
      ],
      "execution_count": 0,
      "outputs": []
    },
    {
      "cell_type": "code",
      "metadata": {
        "id": "0iorcll3FqgA",
        "colab_type": "code",
        "colab": {}
      },
      "source": [
        "# РАЗБИЕНИЕ ПРАВИЛ ПО ОЧЕРЕДНОСТИ ПРИМЕНЕНИЯ К СЛОВУ\n",
        "\n",
        "def rule_for_letter(letter, rules):\n",
        "    firstPrior_rules_for_letter = []\n",
        "    SecondPrior_rules_for_letter = []\n",
        "\n",
        "    for rule in rules:\n",
        "        if rule[0] == letter and rule[2] != '':\n",
        "            firstPrior_rules_for_letter.append(rule)\n",
        "\n",
        "        elif rule[0] == letter and rule[2] == '':\n",
        "            SecondPrior_rules_for_letter.append(rule)\n",
        "            \n",
        "    return firstPrior_rules_for_letter + SecondPrior_rules_for_letter\n"
      ],
      "execution_count": 0,
      "outputs": []
    },
    {
      "cell_type": "code",
      "metadata": {
        "id": "nCKMRL7ZGFGQ",
        "colab_type": "code",
        "colab": {}
      },
      "source": [
        "# ФУНКЦИЯ ДЕЛАЕТ ТРАНСКРИПЦИЮ\n",
        "\n",
        "def make_trans(word):\n",
        "    word_base = word\n",
        "    index_letter = 0\n",
        "    for letter in word:\n",
        "        prioritete_rule = rule_for_letter(letter, list_rules)\n",
        "        for i in prioritete_rule:\n",
        "            word = zamena(word, index_letter, i)\n",
        "        if len(word) - len(word_base) >= 4:\n",
        "            index_letter += int(1+ (len(word) - len(word_base))/2)\n",
        "        else:\n",
        "            index_letter += 1 + len(word) - len(word_base)\n",
        "\n",
        "        word_base = word\n",
        "    return word"
      ],
      "execution_count": 0,
      "outputs": []
    },
    {
      "cell_type": "code",
      "metadata": {
        "id": "dncu69XXGOlB",
        "colab_type": "code",
        "colab": {}
      },
      "source": [
        "# СОЕДИНЯЕТ ДИАКРИТИКИ И ДРУГИЕ СПЕЦИАЛЬНЫЕ ЗНАКИ С ЗВУКАМИ, К КОТОРЫМ ОНИ ОТНОСЯТСЯ. \n",
        "# ФУНКЦИЯ НА ВХОД ПОЛУЧАЕТ СЛОВО В ВИДЕ ТРАНСКРИПЦИИ, ДИАКРИТИЧЕСКИЙ ИЛИ ПРОСОДИЧЕСКИЙ\n",
        "# СИМВОЛ И БУКВУ К КОТОРОЙ ОТНОСИТСЯ ЭТОТ СИМВОЛ\n",
        "\n",
        "\n",
        "\n",
        "def find_diacr(word, letter, symbol):\n",
        "    diacritic = { \"ʲ\" : 'pos', \"ː\" : 'pos', '̀' : 'pos',  \")\" : 'betw'}\n",
        "    word = list(word)\n",
        "    if symbol == letter:\n",
        "        if diacritic[symbol] == 'pos':\n",
        "            pre = word[:word.index(letter) - 1]\n",
        "            diacr = [word[word.index(letter) - 1] + word[word.index(letter)]]\n",
        "            post = word[word.index(letter) + 1:]\n",
        "            new_word = pre + diacr + post\n",
        "            return new_word, letter\n",
        "\n",
        "\n",
        "        elif diacritic[symbol] == 'pre':\n",
        "            pre = word[:word.index(letter)]\n",
        "            diacr = [word[word.index(letter)] + word[word.index(letter)+ 1 ]]\n",
        "            post = word[word.index(letter) + 2:]\n",
        "            new_word = pre + diacr + post\n",
        "            letter = word[word.index(letter) + 2]\n",
        "            return new_word, letter \n",
        "      \n",
        "        elif diacritic[symbol] == 'betw':\n",
        "            pre = word[:word.index(letter) - 1]\n",
        "            diacr = [word[word.index(letter) - 1 ] + word[word.index(letter)] + word[word.index(letter)+ 1]]\n",
        "            post = word[word.index(letter) + 2:]\n",
        "            new_word = pre + diacr + post\n",
        "            letter = word[word.index(letter) + 2]\n",
        "            return new_word, letter \n",
        "\n",
        "    else:\n",
        "        return word, letter\n",
        "    "
      ],
      "execution_count": 0,
      "outputs": []
    },
    {
      "cell_type": "code",
      "metadata": {
        "id": "kmefoFnxGrsv",
        "colab_type": "code",
        "colab": {}
      },
      "source": [
        "# РАЗДЕЛЯЕТ ВСЕ СЛОВА В СПИСКЕ НА СЕГМЕНТЫ (ИМЕЮТСЯ В ВИДУ ЗВУКОВЫЕ СЕГМЕНТЫ)\n",
        "\n",
        "def make_segments_list(big_list_trans):\n",
        "    segments = []\n",
        "    for word in big_list_trans:\n",
        "        try:\n",
        "            for letter in word:\n",
        "                for symbol in diacritic.keys():\n",
        "                    word, letter = find_diacr(word, letter, symbol)\n",
        "        except ValueError:\n",
        "            pass\n",
        "        segments.append(word)\n",
        "    return segments\n"
      ],
      "execution_count": 0,
      "outputs": []
    },
    {
      "cell_type": "code",
      "metadata": {
        "id": "Y7JqYU__HBgq",
        "colab_type": "code",
        "colab": {}
      },
      "source": [
        ""
      ],
      "execution_count": 0,
      "outputs": []
    },
    {
      "cell_type": "code",
      "metadata": {
        "id": "y8eijfCnHOoA",
        "colab_type": "code",
        "colab": {}
      },
      "source": [
        "#  ФУНКЦИЯ НУЖНА ДЛЯ ОТСЕВА СЛОВ В КОТОРЫХ ВСТРЕЧАЮТСЯ НЕ КИРИЛЛИЧЕСКИЕ СИМВОЛЫ\n",
        "\n",
        "def is_allowed(string):\n",
        "    characherRegex = re.compile(r\"[^а-яА-я\\s0-9'̀.]\")\n",
        "    string = characherRegex.search(string)\n",
        "    return not bool(string)"
      ],
      "execution_count": 0,
      "outputs": []
    },
    {
      "cell_type": "code",
      "metadata": {
        "id": "R76AOfsTHQS3",
        "colab_type": "code",
        "colab": {}
      },
      "source": [
        "# ДОСТАЕТ СЛОВА В ЗОНЕ РИФМОВКИ. БЕРЕТ ПЕРВОЕ СЛОВО С КОНЦА СТРОКИ ЕСЛИ ОНО\n",
        "# ДЛИННЕЕ ТРЕХ СИМВОЛОВ, ИНАЧЕ - ПОСЛЕДНИЕ ДВА СЛОВА\n",
        "\n",
        "def find_last_words_l(stich):\n",
        "    list_word_to_transc = []\n",
        "    for i in stich:\n",
        "        if i != '' or is_allowed(i) == True:\n",
        "            last_word = i.rstrip(' ').split(' ')[-1]\n",
        "            if len(last_word) >= 4:\n",
        "                word_to_transc = last_word\n",
        "                list_word_to_transc.append(word_to_transc)\n",
        "            else:\n",
        "                word_to_transc = i.split(' ')[-2:]\n",
        "                word_to_transc = ''.join(word_to_transc)\n",
        "                list_word_to_transc.append(word_to_transc)\n",
        "        else:\n",
        "            stich.remove(i)\n",
        "    return list_word_to_transc"
      ],
      "execution_count": 0,
      "outputs": []
    },
    {
      "cell_type": "code",
      "metadata": {
        "id": "Dy20MJwAHdrh",
        "colab_type": "code",
        "colab": {}
      },
      "source": [
        "# ДЕЛАЕТ ТРАНСКРИПЦИЮ ДЛЯ СПИСКА СЛОВ\n",
        "\n",
        "def make_trans_for_list(list_word_to_transc):\n",
        "    list_transc_push = []\n",
        "    for i in list_word_to_transc:\n",
        "        if ' ' in i:\n",
        "            two_words_in_one = i.replace(' ' , '')\n",
        "            list_transc_push.append(make_trans(two_words_in_one + '#'))\n",
        "        else:\n",
        "            list_transc_push.append(make_trans(i+'#'))\n",
        "    return list_transc_push\n"
      ],
      "execution_count": 0,
      "outputs": []
    },
    {
      "cell_type": "code",
      "metadata": {
        "id": "k7ufuSB1HoMK",
        "colab_type": "code",
        "colab": {}
      },
      "source": [
        "# ВЫДЕЛЯЕТ ПОСЛЕДНИЕ ЧЕТЫРЕ ЭЛЕМЕНТА В СЛОВЕ\n",
        "\n",
        "def segments_four_last_func(segments):\n",
        "    segments_four_last = ''\n",
        "    count = 0\n",
        "    for i in segments:\n",
        "        str_word = ''\n",
        "        str_word = ''.join(i[-5:-1:])\n",
        "        if count % 2 == 0:\n",
        "            segments_four_last += ''.join(str_word + ';')\n",
        "            count += 1\n",
        "        else:\n",
        "            segments_four_last += ''.join(str_word + '\\n')\n",
        "            count += 1\n",
        "    return segments_four_last"
      ],
      "execution_count": 0,
      "outputs": []
    },
    {
      "cell_type": "code",
      "metadata": {
        "id": "5SUaz7ZzHo3Q",
        "colab_type": "code",
        "colab": {}
      },
      "source": [
        "# СЧИТАЕТ РАССТОЯНИЕ ПО ЛЕВЕНШТЕЙНУ МЕЖДУ ДВУМЯ СТРОКАМИ. СОЗДАЕТ ФАЙЛ, В КОТОРЫХ \n",
        "# ЗАПИСЫВАЕТ ПРОМЕЖУТОЧНЫЕ РЕЗУЛЬТАТЫ. \n",
        "\n",
        "def find_distance(str_word_first, str_word_second):\n",
        "    with open('trans_four.csv', 'w', encoding = 'utf-8') as f:\n",
        "        f.write(str_word_first + ';' + str_word_second)\n",
        "    c = ipa.phonetic_transformer('trans_four.csv', 'rules.csv')\n",
        "    return c\n",
        "\n"
      ],
      "execution_count": 0,
      "outputs": []
    },
    {
      "cell_type": "code",
      "metadata": {
        "id": "26ecoSuwIETQ",
        "colab_type": "code",
        "colab": {}
      },
      "source": [
        "# ПРИПИСЫВАЕТ ФОНОЛОГИЧЕСКИЕ ПРИЗНАКИ ЗВУКОВЫМ СЕГМЕНТАМ, ВЫДАЕТ СПИСОК СО СПИСКАМИ\n",
        "\n",
        "with open ('priznakiV.txt', 'r') as f:\n",
        "    priznaki = f.readlines()\n",
        "\n",
        "list_priznaki = []\n",
        "for i in priznaki:\n",
        "    list_priznaki.append(i.split(';'))\n",
        "\n",
        "def create_matrix_priz(list_priznaki, word):\n",
        "    list_priz_for_word = []\n",
        "    for letter in word[-4:-1:]:\n",
        "        for i in list_priznaki:\n",
        "            if letter == i[0]:\n",
        "                list_priz_for_word.append(i[2:18])\n",
        "    return list_priz_for_word"
      ],
      "execution_count": 0,
      "outputs": []
    },
    {
      "cell_type": "code",
      "metadata": {
        "id": "s1iWKagyIQL2",
        "colab_type": "code",
        "colab": {}
      },
      "source": [
        "# ДЕЛИТ СЛОВО НА СЕГМЕНТЫ (НЕ ПУТАТЬ С make_segments_list)\n",
        "\n",
        "def make_segments_for_word(word):\n",
        "    for letter in word:\n",
        "        for symbol in diacritic.keys():\n",
        "            word, letter = find_diacr(word, letter, symbol)\n",
        "        # print(word)\n",
        "    return word\n"
      ],
      "execution_count": 0,
      "outputs": []
    },
    {
      "cell_type": "code",
      "metadata": {
        "id": "2XZddBZfIqcD",
        "colab_type": "code",
        "colab": {}
      },
      "source": [
        "# ФУНКЦИЯ ВОЗВРАЩАЕТ ВЕКТОР В КОТОРОМ ЕДИНИЦАМИ УКАЗАНЫ ОБЩИЕ ЭЛЕМЕНТЫ, А НУЛЯМИ РАЗЛИЧНЫЕ\n",
        "# (СВОДНЫЙ ВЕКТОР)\n",
        "\n",
        "def matr_egal(matr1, matr2):\n",
        "    list_egalite = []\n",
        "    for i in range(len(matr1)):\n",
        "        for j in range(len(matr1[i])):\n",
        "            if matr1[i][j] == matr2[i][j]:\n",
        "                list_egalite.append(1)\n",
        "            else:\n",
        "                list_egalite.append(0)\n",
        "    return list_egalite\n"
      ],
      "execution_count": 0,
      "outputs": []
    },
    {
      "cell_type": "code",
      "metadata": {
        "id": "979IKXedIuLz",
        "colab_type": "code",
        "colab": {}
      },
      "source": [
        "# ДЛЯ КАЖДОЙ СТРОКИ (startword) ЗАПИСЫВАЕТ В befor ЧЕТЫРЕ СТРОКИ ПРЕДШЕСТВУЮЩИЕ ЕЙ\n",
        "# after - СЛЕДУЮЩИЕ ЗА startword\n",
        "\n",
        "def find_eight_string(list_words, startword, count_str):\n",
        "    if count_str == 0 or count_str == 1 or count_str == 2 or count_str == 3:\n",
        "        befor = list_words[: count_str]\n",
        "    else:\n",
        "        befor = list_words[count_str -4  : count_str]\n",
        "    after = list_words[count_str + 1 :count_str + 5]\n",
        "    return befor, after"
      ],
      "execution_count": 0,
      "outputs": []
    },
    {
      "cell_type": "code",
      "metadata": {
        "id": "Kqme-129IyME",
        "colab_type": "code",
        "colab": {}
      },
      "source": [
        "# ПРОГА СОЗДАЕТ СВОДНЫЙ ВЕКТОР, КОТОРЫЙ ПОДАЕТСЯ НА ВХОД МОДЕЛИ. ФУНКЦИЯ ВОЗВРАЩАЕТ\n",
        "# ПАРУ СЛОВ, ЕСЛИ ОНИ РИФМУЮТСЯ\n",
        "\n",
        "def pred_rythm(word1, word2, count_str, count_str2):\n",
        "    tr = make_trans(word1 + '#')\n",
        "    tr2 = make_trans(word2 + '#')\n",
        "\n",
        "    tr_seg = make_segments_for_word(tr)\n",
        "    tr_seg2 = make_segments_for_word(tr2)\n",
        "\n",
        "    nonr = matr_egal(create_matrix_priz(list_priznaki, make_segments_for_word(tr)), create_matrix_priz(list_priznaki, make_segments_for_word(tr2)))\n",
        "    nonr = np.array(nonr).reshape(1, -1)\n",
        "    if load_model.predict(nonr) == ['1']:\n",
        "        return word1 + ' ' + str(count_str), word2 + ' ' + str(count_str2)"
      ],
      "execution_count": 0,
      "outputs": []
    },
    {
      "cell_type": "code",
      "metadata": {
        "id": "zfwiArDbI1_8",
        "colab_type": "code",
        "colab": {}
      },
      "source": [
        "# СОЗДАЕТ СПИСОК КОРТЕЖЕЙ, В КОТОРОМ ДЛЯ КАЖДОГО СЛОВА ПОПАВШЕГО В ЗОНУ РИФМОВКИ\n",
        "# ПЕРЕЧИСЛЕНЫ РИФМОВЫЕ ПАРЫ СЛОВ\n",
        "\n",
        "def make_corteg_of_nodes_of_startword(startword, befor, after, list_corteg_of_nodes, count_str):\n",
        "    if after != []:\n",
        "        count_str2 = count_str + 1\n",
        "        for i in after:\n",
        "            cort = pred_rythm(startword, i, count_str, count_str2)\n",
        "            if cort != None:\n",
        "                list_corteg_of_nodes.append(cort)\n",
        "            count_str2 += 1\n",
        "\n",
        "    return list_corteg_of_nodes"
      ],
      "execution_count": 0,
      "outputs": []
    },
    {
      "cell_type": "code",
      "metadata": {
        "id": "xU5LoUngJFRU",
        "colab_type": "code",
        "colab": {}
      },
      "source": [
        "# ВЫБИРАЕТ ИЗ НЕСКОЛЬКИХ ВАРИАНТОВ РИФМОВЫХ ПАР У СЛОВА ОДИН.\n",
        "\n",
        "def find_min(node, G):\n",
        "    min_dist = 3\n",
        "    cort_min = ()\n",
        "    \n",
        "    list_node2 = list(G.adj[node])\n",
        "    word1 = node.split()[0]\n",
        "    for node2 in list_node2:\n",
        "        word2 = node2.split()[0]\n",
        "        two_seg_of_word = make_segments_list(make_trans_for_list([word1, word2]))\n",
        "        w1 = ''.join(two_seg_of_word[0][-4:-1:])\n",
        "        w2 = ''.join(two_seg_of_word[1][-4:-1:])\n",
        "        distance = find_distance(w1, w2)[0]\n",
        "        if min_dist == 3:\n",
        "            min_dist = distance\n",
        "            cort_min = (node, node2)\n",
        "        elif min_dist > distance:\n",
        "            min_dist = distance\n",
        "            cort_min = (node, node2)\n",
        "    return cort_min"
      ],
      "execution_count": 0,
      "outputs": []
    },
    {
      "cell_type": "code",
      "metadata": {
        "id": "9bUDKkFVJI0z",
        "colab_type": "code",
        "colab": {}
      },
      "source": [
        ""
      ],
      "execution_count": 0,
      "outputs": []
    },
    {
      "cell_type": "code",
      "metadata": {
        "id": "25Ko5wn-JxOK",
        "colab_type": "code",
        "colab": {}
      },
      "source": [
        "# ДЛЯ СТИХОТВОРЕНИЯ СОЗДАЕТ ГРАФ В КОТОРОМ УЗЛЫ - СЛОВА. РЕБРА СОЕДИНЯЮТ ДВА УЗЛА, ЕСЛИ ОНИ РИФМУЮТСЯ.\n",
        "\n",
        "def create_edges_ru(stix):\n",
        "    G = nx.Graph()\n",
        "    New_G = nx.Graph()\n",
        "    list_word_to_transc = find_last_words_l(stix)\n",
        "    list_corteg_of_nodes = []\n",
        "    count_str = 0\n",
        "    for i in list_word_to_transc:\n",
        "        if type(i) == list:\n",
        "            i = ' '.join(i)\n",
        "        else:\n",
        "            pass\n",
        "        befor_startword, after_startword = find_eight_string(find_last_words_l(stix), i, count_str)\n",
        "        list_corteg_of_nodes = make_corteg_of_nodes_of_startword(i, befor_startword, after_startword, list_corteg_of_nodes, count_str)\n",
        "        count_str += 1\n",
        "    G.add_edges_from(list_corteg_of_nodes)\n",
        "    for node in G.nodes():\n",
        "        if G.degree[node] > 1:\n",
        "            cort_min = find_min(node, G)\n",
        "            New_G.add_edge(cort_min[0], cort_min[1])\n",
        "        else:\n",
        "            New_G.add_edge(node, list(G[node])[0])\n",
        "    return New_G"
      ],
      "execution_count": 0,
      "outputs": []
    },
    {
      "cell_type": "code",
      "metadata": {
        "id": "vzWSnlIIJ5nu",
        "colab_type": "code",
        "colab": {}
      },
      "source": [
        "# ОПРЕДЕЛЯЕТ ВИДЫ РИФМЫ\n",
        "\n",
        "# ОПРЕДЕЛЕНИЕ ТОЧНОЙ РИФМЫ\n",
        "def detect_tochn(word1, word2):\n",
        "    Vowels = re.findall(r'[а,и,ю,я,е,э,о,ы,у,̀ ]', word1)\n",
        "    l_word = []\n",
        "    for w in [word1, word2]:\n",
        "        w_count = []\n",
        "        for i in w:\n",
        "            w_count.append(i)\n",
        "        c = Counter(w_count)\n",
        "        if c['̀'] == 0:\n",
        "            return 'неопределена'\n",
        "        elif c['̀'] > 1:\n",
        "            for x in range(c['̀']-1):\n",
        "                del w_count[w_count.index('̀')]\n",
        "        l_word.append(w_count)\n",
        "    if l_word[0][l_word[0].index('̀'):] == l_word[1][l_word[1].index('̀'):]:\n",
        "        return 'точная'\n",
        "    else:\n",
        "        return 'неточная'\n",
        "\n",
        "# ОПРЕДЕЛЕНИЕ РИФМЫ ПО МЕСТУ УДАРЕНИЯ\n",
        "def detect_accent(word1, word2):\n",
        "    Vowels = re.findall(r'[а,и,ю,я,е,э,о,ы,у,̀ ]', word1)\n",
        "    if '̀' not in Vowels:\n",
        "        return 'неопределена'\n",
        "    elif Vowels[-1] == '̀':\n",
        "        return 'мужская'\n",
        "    elif Vowels[-2] == '̀':\n",
        "        return 'женская'\n",
        "    elif Vowels[-3] == '̀':\n",
        "        return 'дактилическая'\n",
        "    elif Vowels[-4] == '̀':\n",
        "        return 'гипердактилическая'\n",
        "\n",
        "# ОПРЕДЕЛЕНИЕ ОДНОРОДНОЙ/РАЗНОРОДНОЙ РИФМЫ\n",
        "def detect_odnorodn(word1, word2):\n",
        "    mor_word1 = morph.parse(word1)[0]\n",
        "    mor_word2 = morph.parse(word2)[0]\n",
        "    if mor_word1.tag.POS == mor_word2.tag.POS:\n",
        "        return 'однородная'\n",
        "    elif mor_word1.tag.POS != mor_word2.tag.POS and mor_word2.tag.POS not in ['PRCL', 'INTJ', 'CONJ', 'PREP'] and mor_word2.tag.POS not in ['PRCL', 'INTJ', 'CONJ', 'PREP']:\n",
        "        return 'разнородная'\n",
        "    else:\n",
        "        return 'составная'\n",
        "\n",
        "# ОПРЕДЕЛЕНИЕ БЕДНОЙ/БОГАТОЙ РИФМЫ\n",
        "def detect_bednaya(word1, word2):\n",
        "    Vowels = re.findall(r'[а,и,ю,я,е,э,о,ы,у,̀ ]', word1)\n",
        "    l_word = []\n",
        "    for w in [word1, word2]:\n",
        "        w_count = []\n",
        "        for i in w:\n",
        "            w_count.append(i)\n",
        "        c = Counter(w_count)\n",
        "        if c['̀'] == 0:\n",
        "            return 'неопределена'\n",
        "        elif c['̀'] > 1:\n",
        "            for x in range(c['̀']-1):\n",
        "                del w_count[w_count.index('̀')]\n",
        "        l_word.append(w_count)\n",
        "    last_V1 = l_word[0][l_word[0].index('̀') - 1]\n",
        "    last_V2 = l_word[1][l_word[1].index('̀') - 1]\n",
        "    last_C1 = l_word[0][l_word[0].index('̀') - 2]\n",
        "    last_C2 = l_word[1][l_word[1].index('̀') - 2]\n",
        "    if last_V1 == last_V2 and last_C1 == last_C2:\n",
        "        return 'богатая'\n",
        "    elif last_V1 == last_V2 and last_C1 != last_C2:\n",
        "        return 'бедная'\n",
        "    else:\n",
        "        return 'неопределена'\n"
      ],
      "execution_count": 0,
      "outputs": []
    },
    {
      "cell_type": "code",
      "metadata": {
        "id": "_dX2xlOLKAX0",
        "colab_type": "code",
        "colab": {}
      },
      "source": [
        "# ОПРЕДЕЛЕНИЕ РИФМЫ, ЗАПИСЬ В ДАТАФРЕЙМ С\n",
        "\n",
        "def detec_ry_func(New_G, header, name_col, df_detec_ry, stix, index_header):\n",
        "    df_detec_ry2 = pd.DataFrame(columns = name_col)\n",
        "    count_num_col = 0\n",
        "    for edge in New_G.edges():\n",
        "        word1 = edge[0].split()[0]\n",
        "        word2 = edge[1].split()[0]\n",
        "        ry_accent = detect_accent(word1, word2)\n",
        "        ry_tocnhn = detect_tochn(word1, word2)\n",
        "        ry_odnor = detect_odnorodn(word1, word2)\n",
        "        ry_bedn = detect_bednaya(word1, word2)\n",
        "        author = verses.loc[index_header, 'Author']\n",
        "        year = verses.loc[index_header, 'Year']\n",
        "        stroka = stix[int(edge[0].split()[1])]\n",
        "\n",
        "        df_detec_ry2.loc[count_num_col] = year, author, header, stroka, word1, word2, ry_accent, ry_tocnhn, ry_odnor, ry_bedn\n",
        "        count_num_col += 1\n",
        "\n",
        "    df_detec_ry = df_detec_ry.append(df_detec_ry2)\n",
        "    return df_detec_ry\n"
      ],
      "execution_count": 0,
      "outputs": []
    },
    {
      "cell_type": "code",
      "metadata": {
        "id": "iGfmf-HvKF_3",
        "colab_type": "code",
        "colab": {}
      },
      "source": [
        "# СЧИТЫВАЕТ ИЗ ДАТАФРЕЙМА СО ВСЕМИ СТИХАМИ ПО ОДНОМУ СТИХОТВОРЕНИЮ\n",
        "def make_stix(verses, header, group_header):\n",
        "    stix = []\n",
        "    df = group_header.get_group(header)\n",
        "    st = df['LineText'].values.tolist()\n",
        "    for i in st:\n",
        "        i = i.lower()\n",
        "        i = i.replace(' -- ', ' ').replace('-', ' ')\n",
        "        i = re.sub(r\"[,!?.;:\\(\\)\\…\\'\\\"\\»\\«\\—\\-0-9]\", '', i)\n",
        "        stix.append(i.rstrip(' '))\n",
        "    return stix"
      ],
      "execution_count": 0,
      "outputs": []
    },
    {
      "cell_type": "code",
      "metadata": {
        "id": "BDKz0CQlKPQ6",
        "colab_type": "code",
        "colab": {
          "base_uri": "https://localhost:8080/",
          "height": 1000
        },
        "outputId": "9e478618-a424-4d63-db01-29cba82bf4ae"
      },
      "source": [
        "group_header = verses.groupby('Header')\n",
        "list_Header = list(set(verses['Header'].to_list()))\n",
        "col = ['год', 'автор', 'заголовок', 'строка', 'слово1', 'слово2', 'рифма_ударение', 'рифма_точная', 'рифма_однородность', 'рифма_богатая']\n",
        "df_detec_ry = pd.DataFrame(columns = col)\n",
        "for header in list_Header[:12]:\n",
        "    try:\n",
        "        index_header = verses.loc[verses['Header'] == header].index[0]\n",
        "        print(header)\n",
        "        stix = make_stix(verses, header, group_header)\n",
        "        New_G = create_edges_ru(stix)\n",
        "        df_detec_ry = detec_ry_func(New_G, header, col, df_detec_ry, stix, index_header)\n",
        "    except:\n",
        "        pass\n",
        "\n",
        "# ДАТАФРЕЙМ С\n",
        "df_detec_ry"
      ],
      "execution_count": 58,
      "outputs": [
        {
          "output_type": "stream",
          "text": [
            "Раб и Свободный : «С Греком Галл несхож -- и сходен...»\n",
            "Демон : «В те дни, когда мне были новы...»\n",
            "Свиданье : «Был купол храма в небе светел...»\n",
            "Земля : «Ты помнишь ли случай, родная?...»\n",
            "Тезей Ариадне : ««Ты спишь, от долгих ласк усталая...»\n",
            "Черемуха : «Черемухой душистой с тобой опьянены...»\n",
            "«Лампа моя равнодушно мне светит...»\n",
            "Ave, sтеlla maris : «Дымно тает берег плоский...»\n",
            "«Я оплакал себя, схоронил...»\n",
            "Слава : «Какой таинственною силой...»\n",
            "Послание К. Р. : «Ваше высочество, ваш благосклонный...»\n",
            "«Повеселясь на буйном пире...»\n"
          ],
          "name": "stdout"
        },
        {
          "output_type": "execute_result",
          "data": {
            "text/html": [
              "<div>\n",
              "<style scoped>\n",
              "    .dataframe tbody tr th:only-of-type {\n",
              "        vertical-align: middle;\n",
              "    }\n",
              "\n",
              "    .dataframe tbody tr th {\n",
              "        vertical-align: top;\n",
              "    }\n",
              "\n",
              "    .dataframe thead th {\n",
              "        text-align: right;\n",
              "    }\n",
              "</style>\n",
              "<table border=\"1\" class=\"dataframe\">\n",
              "  <thead>\n",
              "    <tr style=\"text-align: right;\">\n",
              "      <th></th>\n",
              "      <th>год</th>\n",
              "      <th>автор</th>\n",
              "      <th>заголовок</th>\n",
              "      <th>строка</th>\n",
              "      <th>слово1</th>\n",
              "      <th>слово2</th>\n",
              "      <th>рифма_ударение</th>\n",
              "      <th>рифма_точная</th>\n",
              "      <th>рифма_однородность</th>\n",
              "      <th>рифма_богатая</th>\n",
              "    </tr>\n",
              "  </thead>\n",
              "  <tbody>\n",
              "    <tr>\n",
              "      <th>0</th>\n",
              "      <td>1823</td>\n",
              "      <td>А. С. Пушкин</td>\n",
              "      <td>Демон : «В те дни, когда мне были новы...»</td>\n",
              "      <td>в те днѝ когда̀ мне бы̀ли но̀вы</td>\n",
              "      <td>но̀вы</td>\n",
              "      <td>дубро̀вы</td>\n",
              "      <td>женская</td>\n",
              "      <td>точная</td>\n",
              "      <td>однородная</td>\n",
              "      <td>бедная</td>\n",
              "    </tr>\n",
              "    <tr>\n",
              "      <th>1</th>\n",
              "      <td>1823</td>\n",
              "      <td>А. С. Пушкин</td>\n",
              "      <td>Демон : «В те дни, когда мне были новы...»</td>\n",
              "      <td>когда̀ возвы̀шенны̀е чу̀вства</td>\n",
              "      <td>чу̀вства</td>\n",
              "      <td>иску̀сства</td>\n",
              "      <td>женская</td>\n",
              "      <td>неточная</td>\n",
              "      <td>однородная</td>\n",
              "      <td>бедная</td>\n",
              "    </tr>\n",
              "    <tr>\n",
              "      <th>2</th>\n",
              "      <td>1823</td>\n",
              "      <td>А. С. Пушкин</td>\n",
              "      <td>Демон : «В те дни, когда мне были новы...»</td>\n",
              "      <td>когда̀ возвы̀шенны̀е чу̀вства</td>\n",
              "      <td>чу̀вства</td>\n",
              "      <td>со̀ловья̀</td>\n",
              "      <td>женская</td>\n",
              "      <td>неточная</td>\n",
              "      <td>разнородная</td>\n",
              "      <td>неопределена</td>\n",
              "    </tr>\n",
              "    <tr>\n",
              "      <th>3</th>\n",
              "      <td>1823</td>\n",
              "      <td>А. С. Пушкин</td>\n",
              "      <td>Демон : «В те дни, когда мне были новы...»</td>\n",
              "      <td>все впѐчатлѐнья бы̀тия̀</td>\n",
              "      <td>бы̀тия̀</td>\n",
              "      <td>со̀ловья̀</td>\n",
              "      <td>мужская</td>\n",
              "      <td>точная</td>\n",
              "      <td>однородная</td>\n",
              "      <td>бедная</td>\n",
              "    </tr>\n",
              "    <tr>\n",
              "      <th>4</th>\n",
              "      <td>1823</td>\n",
              "      <td>А. С. Пушкин</td>\n",
              "      <td>Демон : «В те дни, когда мне были новы...»</td>\n",
              "      <td>свобо̀да сла̀ва ѝ любо̀вь</td>\n",
              "      <td>любо̀вь</td>\n",
              "      <td>кро̀вь</td>\n",
              "      <td>мужская</td>\n",
              "      <td>точная</td>\n",
              "      <td>однородная</td>\n",
              "      <td>бедная</td>\n",
              "    </tr>\n",
              "    <tr>\n",
              "      <th>...</th>\n",
              "      <td>...</td>\n",
              "      <td>...</td>\n",
              "      <td>...</td>\n",
              "      <td>...</td>\n",
              "      <td>...</td>\n",
              "      <td>...</td>\n",
              "      <td>...</td>\n",
              "      <td>...</td>\n",
              "      <td>...</td>\n",
              "      <td>...</td>\n",
              "    </tr>\n",
              "    <tr>\n",
              "      <th>1</th>\n",
              "      <td>1912</td>\n",
              "      <td>А. А. Блок</td>\n",
              "      <td>«Повеселясь на буйном пире...»</td>\n",
              "      <td>верну̀лся по̀здно я̀ домо̀й</td>\n",
              "      <td>домо̀й</td>\n",
              "      <td>мо̀й</td>\n",
              "      <td>мужская</td>\n",
              "      <td>точная</td>\n",
              "      <td>однородная</td>\n",
              "      <td>богатая</td>\n",
              "    </tr>\n",
              "    <tr>\n",
              "      <th>2</th>\n",
              "      <td>1912</td>\n",
              "      <td>А. А. Блок</td>\n",
              "      <td>«Повеселясь на буйном пире...»</td>\n",
              "      <td>слилѝсь все лѝца всѐ обѝды</td>\n",
              "      <td>обѝды</td>\n",
              "      <td>па̀нихѝды</td>\n",
              "      <td>женская</td>\n",
              "      <td>точная</td>\n",
              "      <td>однородная</td>\n",
              "      <td>бедная</td>\n",
              "    </tr>\n",
              "    <tr>\n",
              "      <th>3</th>\n",
              "      <td>1912</td>\n",
              "      <td>А. А. Блок</td>\n",
              "      <td>«Повеселясь на буйном пире...»</td>\n",
              "      <td>в одно̀ лицо̀ в одно̀ пятно̀</td>\n",
              "      <td>пятно̀</td>\n",
              "      <td>окно̀</td>\n",
              "      <td>мужская</td>\n",
              "      <td>точная</td>\n",
              "      <td>однородная</td>\n",
              "      <td>богатая</td>\n",
              "    </tr>\n",
              "    <tr>\n",
              "      <th>4</th>\n",
              "      <td>1912</td>\n",
              "      <td>А. А. Блок</td>\n",
              "      <td>«Повеселясь на буйном пире...»</td>\n",
              "      <td>лишь со̀блазнѝтель мо̀й не спѝт</td>\n",
              "      <td>спѝт</td>\n",
              "      <td>скѝт</td>\n",
              "      <td>мужская</td>\n",
              "      <td>точная</td>\n",
              "      <td>однородная</td>\n",
              "      <td>бедная</td>\n",
              "    </tr>\n",
              "    <tr>\n",
              "      <th>5</th>\n",
              "      <td>1912</td>\n",
              "      <td>А. А. Блок</td>\n",
              "      <td>«Повеселясь на буйном пире...»</td>\n",
              "      <td>забу̀дь о врѐменно̀м о по̀шлом</td>\n",
              "      <td>по̀шлом</td>\n",
              "      <td>про̀шлом</td>\n",
              "      <td>женская</td>\n",
              "      <td>точная</td>\n",
              "      <td>однородная</td>\n",
              "      <td>бедная</td>\n",
              "    </tr>\n",
              "  </tbody>\n",
              "</table>\n",
              "<p>100 rows × 10 columns</p>\n",
              "</div>"
            ],
            "text/plain": [
              "     год         автор  ... рифма_однородность рифма_богатая\n",
              "0   1823  А. С. Пушкин  ...         однородная        бедная\n",
              "1   1823  А. С. Пушкин  ...         однородная        бедная\n",
              "2   1823  А. С. Пушкин  ...        разнородная  неопределена\n",
              "3   1823  А. С. Пушкин  ...         однородная        бедная\n",
              "4   1823  А. С. Пушкин  ...         однородная        бедная\n",
              "..   ...           ...  ...                ...           ...\n",
              "1   1912    А. А. Блок  ...         однородная       богатая\n",
              "2   1912    А. А. Блок  ...         однородная        бедная\n",
              "3   1912    А. А. Блок  ...         однородная       богатая\n",
              "4   1912    А. А. Блок  ...         однородная        бедная\n",
              "5   1912    А. А. Блок  ...         однородная        бедная\n",
              "\n",
              "[100 rows x 10 columns]"
            ]
          },
          "metadata": {
            "tags": []
          },
          "execution_count": 58
        }
      ]
    },
    {
      "cell_type": "code",
      "metadata": {
        "id": "JNChJBe1KRcf",
        "colab_type": "code",
        "colab": {
          "base_uri": "https://localhost:8080/",
          "height": 318
        },
        "outputId": "3bd10fca-70ca-48c0-99f6-b7ec98862bc4"
      },
      "source": [
        "# ВИЗУАЛИЗАЦИЯ ГРАФА НА ПРИМЕРЕ ПОСЛЕДНЕГО СТИХОТВОРЕНИЯ ИЗ ДАТАФРЕЙМА\n",
        "\n",
        "pos = nx.spring_layout(New_G)\n",
        "nx.draw(New_G, pos, with_labels=True)"
      ],
      "execution_count": 61,
      "outputs": [
        {
          "output_type": "display_data",
          "data": {
            "image/png": "[encoded data removed]",
            "text/plain": [
              "<Figure size 432x288 with 1 Axes>"
            ]
          },
          "metadata": {
            "tags": []
          }
        }
      ]
    },
    {
      "cell_type": "code",
      "metadata": {
        "id": "j9ZW2Tx8SIwn",
        "colab_type": "code",
        "colab": {}
      },
      "source": [
        ""
      ],
      "execution_count": 0,
      "outputs": []
    }
  ]
}